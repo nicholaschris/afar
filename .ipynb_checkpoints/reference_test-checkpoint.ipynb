{
 "cells": [
  {
   "cell_type": "markdown",
   "metadata": {},
   "source": [
    "#Cloud shadow masking reference test  \n",
    "\n",
    "* Read netcdf for cloud and cloud shadow\n",
    "* Read the png for reference (try the normal res one)\n"
   ]
  },
  {
   "cell_type": "code",
   "execution_count": 1,
   "metadata": {
    "collapsed": false
   },
   "outputs": [],
   "source": [
    "from netCDF4 import Dataset\n",
    "from scipy import misc\n",
    "import matplotlib.image as mpimg\n",
    "import matplotlib.pyplot as plt\n",
    "import numpy as np\n",
    "from skimage import color\n"
   ]
  },
  {
   "cell_type": "code",
   "execution_count": 2,
   "metadata": {
    "collapsed": false
   },
   "outputs": [
    {
     "data": {
      "text/plain": [
       "<matplotlib.image.AxesImage at 0x7f76cec341d0>"
      ]
     },
     "execution_count": 2,
     "metadata": {},
     "output_type": "execute_result"
    }
   ],
   "source": [
    "ref = color.rgb2gray(mpimg.imread('/home/nicholas/Documents/cloud-shadow-paper/reference/LC81250592014309LGN00_RGB_reference_half.png'));\n",
    "# ref = misc.imread('/home/nicholas/Documents/cloud-shadow-paper/reference/LC81250592014309LGN00_RGB_reference_half.png')\n"
   ]
  },
  {
   "cell_type": "code",
   "execution_count": 3,
   "metadata": {
    "collapsed": true
   },
   "outputs": [],
   "source": []
  },
  {
   "cell_type": "code",
   "execution_count": 3,
   "metadata": {
    "collapsed": true
   },
   "outputs": [],
   "source": [
    "pcl_nc = Dataset(\"/home/nicholas/Documents/data/intercomparison/new_processing_20150727/LC81250592014309LGN00_pcl.nc\")"
   ]
  },
  {
   "cell_type": "code",
   "execution_count": 4,
   "metadata": {
    "collapsed": true
   },
   "outputs": [],
   "source": [
    "pcl = pcl_nc.variables['pcl'][:]\n",
    "pcl_nc.close()"
   ]
  },
  {
   "cell_type": "code",
   "execution_count": 5,
   "metadata": {
    "collapsed": false
   },
   "outputs": [],
   "source": [
    "cs_mask_nc = Dataset(\"/home/nicholas/Documents/data/intercomparison/new_processing_20150727/LC81250592014309LGN00_cs_mask.nc\")\n",
    "# print(cs_mask_nc.variables)\n",
    "cs_mask = cs_mask_nc.variables['cs_mask'][:]\n",
    "cs_mask_nc.close()"
   ]
  },
  {
   "cell_type": "code",
   "execution_count": 6,
   "metadata": {
    "collapsed": false
   },
   "outputs": [
    {
     "data": {
      "text/plain": [
       "(7761, 7591)"
      ]
     },
     "execution_count": 6,
     "metadata": {},
     "output_type": "execute_result"
    }
   ],
   "source": [
    "pcl.shape"
   ]
  },
  {
   "cell_type": "code",
   "execution_count": 6,
   "metadata": {
    "collapsed": false
   },
   "outputs": [],
   "source": [
    "ref.shape\n",
    "np.mean(ref)\n",
    "np.max(ref)\n",
    "ref[np.where(ref<1)] = 0 \n",
    "plt.imshow(ref, cmap=\"gray\")\n",
    "plt.show()"
   ]
  },
  {
   "cell_type": "code",
   "execution_count": null,
   "metadata": {
    "collapsed": false
   },
   "outputs": [],
   "source": [
    "plt.close('all')\n",
    "plt.imshow(cs_mask, interpolation='none')\n",
    "plt.show()"
   ]
  },
  {
   "cell_type": "code",
   "execution_count": null,
   "metadata": {
    "collapsed": false
   },
   "outputs": [],
   "source": [
    "x = np.empty(ref.shape, dtype=bool)"
   ]
  },
  {
   "cell_type": "code",
   "execution_count": null,
   "metadata": {
    "collapsed": false
   },
   "outputs": [],
   "source": [
    "x = np.logical_or(np.logical_and(ref==0, cs_mask==1), np.logical_and(ref==0, pcl==1))"
   ]
  },
  {
   "cell_type": "code",
   "execution_count": null,
   "metadata": {
    "collapsed": false
   },
   "outputs": [],
   "source": [
    "print(np.count_nonzero(x))\n",
    "print(np.mean(cs_mask))\n",
    "print(np.count_nonzero(cs_mask))\n",
    "print(np.size(x) - np.count_nonzero(ref))"
   ]
  },
  {
   "cell_type": "code",
   "execution_count": null,
   "metadata": {
    "collapsed": true
   },
   "outputs": [],
   "source": [
    "def create_cm_orange():\n",
    "    from matplotlib import cm\n",
    "    import numpy as np\n",
    "    theCM = cm.get_cmap('Oranges')\n",
    "    theCM._init() # this is a hack to get at the _lut array, which stores RGBA vals\n",
    "    alphas = np.abs(np.linspace(0, .9, theCM.N))\n",
    "    theCM._lut[:-3,-1] = alphas\n",
    "    return theCM\n",
    "\n",
    "def create_cm_greys():\n",
    "    from matplotlib import cm\n",
    "    import numpy as np\n",
    "    theCM = cm.get_cmap('Greys')\n",
    "    theCM._init() # this is a hack to get at the _lut array, which stores RGBA vals\n",
    "    alphas = np.abs(np.linspace(0, .9, theCM.N))\n",
    "    theCM._lut[:-3,-1] = alphas\n",
    "    return theCM\n",
    "\n",
    "CMO = create_cm_orange()\n",
    "CMG = create_cm_greys()"
   ]
  },
  {
   "cell_type": "code",
   "execution_count": null,
   "metadata": {
    "collapsed": true
   },
   "outputs": [],
   "source": [
    "no_masked_pixels = 0\n",
    "agreement_between_reference_and_algorithm__cloud_mask = np.logical_and(ref==0, pcl==1)\n",
    "agreement_between_reference_and_algorithm_cloud_shadow_mask = np.logical_and(ref==0, cs_mask==1)\n",
    "total_pixels = np.size(x) - no_masked_pixels\n",
    "agreement_between_manual_mask_and_algorithm_mask = np.logical_and(\n",
    "    agreement_between_reference_and_algorithm__cloud_mask, \n",
    "    agreement_between_reference_and_algorithm_cloud_shadow_mask\n",
    ")\n",
    "cloud_overall_accuracy = agreement_between_manual_mask_and_algorithm_mask / total_pixels\n"
   ]
  },
  {
   "cell_type": "code",
   "execution_count": null,
   "metadata": {
    "collapsed": true
   },
   "outputs": [],
   "source": [
    "agreement_of_cloud = 0\n",
    "omission_of_cloud = 0\n",
    "cloud_producers_accuracy = agreement_of_cloud /  (agreement_of_cloud + omission_of_cloud)"
   ]
  },
  {
   "cell_type": "code",
   "execution_count": null,
   "metadata": {
    "collapsed": true
   },
   "outputs": [],
   "source": [
    "cloud_shadow_producers_accuracy = agreement_of_cloud_shadow / (agreement_of_cloud_shadow + omission_of_cloud_shadow) \n",
    "cloud_shadow_users_accuracy = agreement_of_cloud_shadow / (agreement_of_cloud_shadow + comission_of_cloud_shadow) "
   ]
  },
  {
   "cell_type": "code",
   "execution_count": null,
   "metadata": {
    "collapsed": false
   },
   "outputs": [],
   "source": [
    "plt.close('all')\n",
    "plt.imshow(ref==0, interpolation='none', cmap=CMO, alpha=0.7)\n",
    "plt.imshow(cs_mask, interpolation='none', cmap=CMG, alpha=0.7)\n",
    "plt.savefig('/home/nicholas/Documents/cloud-shadow-paper/reference/ref_vs_cs_mask.png', dpi=600)"
   ]
  }
 ],
 "metadata": {
  "kernelspec": {
   "display_name": "Python 3",
   "language": "python",
   "name": "python3"
  },
  "language_info": {
   "codemirror_mode": {
    "name": "ipython",
    "version": 3
   },
   "file_extension": ".py",
   "mimetype": "text/x-python",
   "name": "python",
   "nbconvert_exporter": "python",
   "pygments_lexer": "ipython3",
   "version": "3.4.3"
  }
 },
 "nbformat": 4,
 "nbformat_minor": 0
}
