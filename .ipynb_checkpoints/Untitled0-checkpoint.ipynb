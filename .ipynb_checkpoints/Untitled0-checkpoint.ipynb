{
 "metadata": {
  "name": "",
  "signature": "sha256:619f7d4286fd18b2bbc7198490bb321b7b4ddd32b90642cb995d996fc69fbe1f"
 },
 "nbformat": 3,
 "nbformat_minor": 0,
 "worksheets": [
  {
   "cells": [
    {
     "cell_type": "code",
     "collapsed": false,
     "input": [
      "import matplotlib.pyplot as plt\n",
      "import numpy as np\n",
      "\n",
      "ax = plt.subplot(111)\n",
      "\n",
      "t = np.arange(0.0, 5.0, 0.01)\n",
      "s = np.cos(2*np.pi*t)\n",
      "line, = plt.plot(t, s, lw=2)\n",
      "\n",
      "plt.annotate('local max', xycoords='axes fraction', xy=(0, 0), xytext=(-0.1, -0.1))\n",
      "\n",
      "plt.text(0, 0, \"Hello\")\n",
      "plt.ylim(-2,2)\n",
      "fig = plt.gcf()\n",
      "plt.show()\n"
     ],
     "language": "python",
     "metadata": {},
     "outputs": [],
     "prompt_number": 11
    }
   ],
   "metadata": {}
  }
 ]
}